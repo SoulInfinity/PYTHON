{
 "cells": [
  {
   "cell_type": "code",
   "execution_count": 12,
   "metadata": {},
   "outputs": [
    {
     "name": "stdout",
     "output_type": "stream",
     "text": [
      "{1: 'Apple', 2: 'Mango', 3: 'Cherry', 4: 'Banana', 5: 'StrawBerry', 6: 'Litchi'}\n"
     ]
    }
   ],
   "source": [
    "# Wtite a python program to input two dictionaries and print the values by merging the two dictionaries. Hint:  use update() method\n",
    "dict1 = {1: \"Apple\", 2: \"Mango\", 3: \"Cherry\"}\n",
    "dict2 = {4: \"Banana\", 5: \"StrawBerry\", 6: \"Litchi\"}\n",
    "dict1.update(dict2)\n",
    "print(dict1)"
   ]
  },
  {
   "cell_type": "code",
   "execution_count": 5,
   "metadata": {},
   "outputs": [
    {
     "name": "stdout",
     "output_type": "stream",
     "text": [
      "SHYAM\n"
     ]
    }
   ],
   "source": [
    "# WAP to create a dictionary and print the key which has the maximum value\n",
    "\n",
    "x1 = {'RAM':100, 'SHYAM':1292, 'HARI' : 88}\n",
    "\n",
    "maximum_value = max(x1, key= lambda x: x1[x])\n",
    "print(maximum_value)\n"
   ]
  },
  {
   "cell_type": "code",
   "execution_count": 6,
   "metadata": {},
   "outputs": [
    {
     "name": "stdout",
     "output_type": "stream",
     "text": [
      "The Original Dictionary is: {'A': 90, 'B': 80, 'C': 70, 'D': 90, 'E': 70}\n",
      "The Dictionary after removing the values removal: {'D': 90, 'B': 80, 'E': 70}\n"
     ]
    }
   ],
   "source": [
    "# WAP to enter a dictionary and remove the duplicate value inside the dictionary\n",
    "marks = {'A' : 90, 'B' : 80, 'C' : 70, 'D' : 90, 'E' : 70}\n",
    "print(\"The Original Dictionary is: \" + str(marks))\n",
    "temp = {val : key for key, val in marks.items()}\n",
    "ans = {val : key for key , val in temp.items()}\n",
    "print(\"The Dictionary after removing the values removal: \" + str(ans))"
   ]
  },
  {
   "cell_type": "code",
   "execution_count": 7,
   "metadata": {},
   "outputs": [
    {
     "name": "stdout",
     "output_type": "stream",
     "text": [
      "Original Set: {'2,3,4,5'}\n",
      "Copied Set: {'2,3,4,5'}\n"
     ]
    }
   ],
   "source": [
    "# Write a python program to enter a set and copy the content of the set into a new set one element at a time.\n",
    "def copyset(set1):\n",
    "    new_set = set()  \n",
    "    for i in set1:\n",
    "        new_set.add(i)  \n",
    "    return new_set\n",
    "set1 = set(input(\"Enter the set elements : \").split())\n",
    "new_set1 = copyset(set1)\n",
    "print(\"Original Set:\", set1)\n",
    "print(\"Copied Set:\", new_set1)"
   ]
  },
  {
   "cell_type": "code",
   "execution_count": 10,
   "metadata": {},
   "outputs": [
    {
     "name": "stdout",
     "output_type": "stream",
     "text": [
      "\n",
      "Set Operations:\n",
      "Set 1: {'1,2,3,4,5'}\n",
      "Set 2: {'5,5,5,4,4,3'}\n",
      "Union: {'1,2,3,4,5', '5,5,5,4,4,3'}\n",
      "Intersection: set()\n",
      "Difference (Set 1 - Set 2): {'1,2,3,4,5'}\n",
      "Difference (Set 2 - Set 1): {'5,5,5,4,4,3'}\n",
      "Symmetric Difference: {'1,2,3,4,5', '5,5,5,4,4,3'}\n",
      "Is Set 1 a subset of Set 2? False\n",
      "Is Set 2 a subset of Set 1? False\n",
      "Is Set 1 a superset of Set 2? False\n",
      "Is Set 2 a superset of Set 1? False\n"
     ]
    }
   ],
   "source": [
    "# Write a python program to enter two sets and perform all the set operations on it.\n",
    "set1 = set(input(\"Enter elements of the first set : \").split())\n",
    "set2 = set(input(\"Enter elements of the second set : \").split())\n",
    "print(\"\\nSet Operations:\")\n",
    "print(\"Set 1:\", set1)\n",
    "print(\"Set 2:\", set2)\n",
    "print(\"Union:\", set1.union(set2))\n",
    "print(\"Intersection:\", set1.intersection(set2))\n",
    "print(\"Difference (Set 1 - Set 2):\", set1.difference(set2))\n",
    "print(\"Difference (Set 2 - Set 1):\", set2.difference(set1))\n",
    "print(\"Symmetric Difference:\", set1.symmetric_difference(set2))\n",
    "print(\"Is Set 1 a subset of Set 2?\", set1.issubset(set2))\n",
    "print(\"Is Set 2 a subset of Set 1?\", set2.issubset(set1))\n",
    "print(\"Is Set 1 a superset of Set 2?\", set1.issuperset(set2))\n",
    "print(\"Is Set 2 a superset of Set 1?\", set2.issuperset(set1))"
   ]
  },
  {
   "cell_type": "code",
   "execution_count": 11,
   "metadata": {},
   "outputs": [
    {
     "name": "stdout",
     "output_type": "stream",
     "text": [
      "New Set after removing duplicates: {'1,2,3,4,5', '2,3,8,6,3'}\n"
     ]
    }
   ],
   "source": [
    "# Write a python program to enter two different sets with string elements combine both the sets remove any duplicates if present and print the new set. \n",
    "set1 = set(input(\"Enter the elements of the first set : \").split())\n",
    "set2 = set(input(\"Enter the elements of the second set : \").split())\n",
    "new_set = set1.union(set2)\n",
    "print(\"New Set after removing duplicates:\", new_set)"
   ]
  },
  {
   "cell_type": "code",
   "execution_count": null,
   "metadata": {},
   "outputs": [],
   "source": []
  }
 ],
 "metadata": {
  "kernelspec": {
   "display_name": "Python 3",
   "language": "python",
   "name": "python3"
  },
  "language_info": {
   "codemirror_mode": {
    "name": "ipython",
    "version": 3
   },
   "file_extension": ".py",
   "mimetype": "text/x-python",
   "name": "python",
   "nbconvert_exporter": "python",
   "pygments_lexer": "ipython3",
   "version": "3.12.1"
  }
 },
 "nbformat": 4,
 "nbformat_minor": 2
}
